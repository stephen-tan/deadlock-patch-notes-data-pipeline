{
 "cells": [
  {
   "cell_type": "markdown",
   "id": "de17cfd2-5c05-465a-9fd9-e11794f43de0",
   "metadata": {},
   "source": [
    "As of 24Nov2024, all patch notes (updates) are located in [this forum](https://forums.playdeadlock.com/forums/changelog.10/)\n",
    "\n",
    "![Deadlock changelog menu](/"
   ]
  },
  {
   "cell_type": "code",
   "execution_count": null,
   "id": "62a2a8f2-c11b-4dd2-98dd-0d4ba2971bec",
   "metadata": {},
   "outputs": [],
   "source": []
  }
 ],
 "metadata": {
  "kernelspec": {
   "display_name": "Python 3 (ipykernel)",
   "language": "python",
   "name": "python3"
  },
  "language_info": {
   "codemirror_mode": {
    "name": "ipython",
    "version": 3
   },
   "file_extension": ".py",
   "mimetype": "text/x-python",
   "name": "python",
   "nbconvert_exporter": "python",
   "pygments_lexer": "ipython3",
   "version": "3.12.5"
  }
 },
 "nbformat": 4,
 "nbformat_minor": 5
}
